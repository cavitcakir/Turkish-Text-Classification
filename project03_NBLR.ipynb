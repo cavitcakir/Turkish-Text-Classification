{
  "nbformat": 4,
  "nbformat_minor": 0,
  "metadata": {
    "colab": {
      "name": "project03_NBLR.ipynb",
      "provenance": [],
      "collapsed_sections": [],
      "toc_visible": true
    },
    "kernelspec": {
      "name": "python3",
      "display_name": "Python 3"
    },
    "accelerator": "GPU"
  },
  "cells": [
    {
      "cell_type": "markdown",
      "metadata": {
        "id": "JBXZCR1b0YPe"
      },
      "source": [
        "# Import and Reading Data"
      ]
    },
    {
      "cell_type": "code",
      "metadata": {
        "id": "_mb6iuKtQk66"
      },
      "source": [
        "import pandas as pd\n",
        "from sklearn.model_selection import train_test_split\n",
        "from sklearn.feature_extraction.text import TfidfVectorizer \n",
        "from sklearn.naive_bayes import MultinomialNB\n",
        "from sklearn.pipeline import make_pipeline "
      ],
      "execution_count": null,
      "outputs": []
    },
    {
      "cell_type": "code",
      "metadata": {
        "colab": {
          "base_uri": "https://localhost:8080/"
        },
        "id": "12V-PqUFb7FL",
        "outputId": "93473212-599f-4d4b-bbb8-94b9a083eef7"
      },
      "source": [
        "from google.colab import drive\n",
        "drive.mount('/content/drive')"
      ],
      "execution_count": null,
      "outputs": [
        {
          "output_type": "stream",
          "text": [
            "Mounted at /content/drive\n"
          ],
          "name": "stdout"
        }
      ]
    },
    {
      "cell_type": "code",
      "metadata": {
        "colab": {
          "base_uri": "https://localhost:8080/"
        },
        "id": "vQ9ilrMeP6sw",
        "outputId": "4ec37c51-0497-4840-b792-3b5ec38c5081"
      },
      "source": [
        "test_path = \"/content/drive/MyDrive/Colab Notebooks/nlp-project-3-dataset/test.csv\"\n",
        "train_path = \"/content/drive/MyDrive/Colab Notebooks/nlp-project-3-dataset/train.csv\"\n",
        "import nltk\n",
        "nltk.download('stopwords')\n",
        "stop_word_list = nltk.corpus.stopwords.words('turkish')"
      ],
      "execution_count": null,
      "outputs": [
        {
          "output_type": "stream",
          "text": [
            "[nltk_data] Downloading package stopwords to /root/nltk_data...\n",
            "[nltk_data]   Unzipping corpora/stopwords.zip.\n"
          ],
          "name": "stdout"
        }
      ]
    },
    {
      "cell_type": "markdown",
      "metadata": {
        "id": "JeHg3R1h0C1_"
      },
      "source": [
        "## Reading Files"
      ]
    },
    {
      "cell_type": "code",
      "metadata": {
        "id": "OE7hwg_OQ3Tu"
      },
      "source": [
        "test_df = pd.read_csv(test_path)\n",
        "train_df = pd.read_csv(train_path)"
      ],
      "execution_count": null,
      "outputs": []
    },
    {
      "cell_type": "code",
      "metadata": {
        "colab": {
          "base_uri": "https://localhost:8080/",
          "height": 359
        },
        "id": "WB3RNI4ESZIH",
        "outputId": "22216dee-1f3a-4494-c3fa-8f4520c73540"
      },
      "source": [
        "train_df.head(10)"
      ],
      "execution_count": null,
      "outputs": [
        {
          "output_type": "execute_result",
          "data": {
            "text/html": [
              "<div>\n",
              "<style scoped>\n",
              "    .dataframe tbody tr th:only-of-type {\n",
              "        vertical-align: middle;\n",
              "    }\n",
              "\n",
              "    .dataframe tbody tr th {\n",
              "        vertical-align: top;\n",
              "    }\n",
              "\n",
              "    .dataframe thead th {\n",
              "        text-align: right;\n",
              "    }\n",
              "</style>\n",
              "<table border=\"1\" class=\"dataframe\">\n",
              "  <thead>\n",
              "    <tr style=\"text-align: right;\">\n",
              "      <th></th>\n",
              "      <th>Unnamed: 0</th>\n",
              "      <th>id</th>\n",
              "      <th>text</th>\n",
              "      <th>label</th>\n",
              "    </tr>\n",
              "  </thead>\n",
              "  <tbody>\n",
              "    <tr>\n",
              "      <th>0</th>\n",
              "      <td>0</td>\n",
              "      <td>547530</td>\n",
              "      <td>Beşiktaş'ın eski teknik direktörü Slaven Bilic...</td>\n",
              "      <td>spor</td>\n",
              "    </tr>\n",
              "    <tr>\n",
              "      <th>1</th>\n",
              "      <td>1</td>\n",
              "      <td>42683</td>\n",
              "      <td>14 Şubat, Katolik Kilisesi’nin azizlerinden St...</td>\n",
              "      <td>yazarlar</td>\n",
              "    </tr>\n",
              "    <tr>\n",
              "      <th>2</th>\n",
              "      <td>2</td>\n",
              "      <td>770925</td>\n",
              "      <td>İstanbul Kağıthane’de gece yarısı sokakta oyun...</td>\n",
              "      <td>video</td>\n",
              "    </tr>\n",
              "    <tr>\n",
              "      <th>3</th>\n",
              "      <td>3</td>\n",
              "      <td>473224</td>\n",
              "      <td>Ziraat Türkiye Kupası maçında deplasmanda Amed...</td>\n",
              "      <td>video</td>\n",
              "    </tr>\n",
              "    <tr>\n",
              "      <th>4</th>\n",
              "      <td>4</td>\n",
              "      <td>44833</td>\n",
              "      <td>Eski Brezilyalı yıldız oyuncu Ronaldo, Brezily...</td>\n",
              "      <td>spor</td>\n",
              "    </tr>\n",
              "    <tr>\n",
              "      <th>5</th>\n",
              "      <td>5</td>\n",
              "      <td>343736</td>\n",
              "      <td>\\n\\n\\n \\nLideri, anneler gününü Hazreti Muhamm...</td>\n",
              "      <td>yazarlar</td>\n",
              "    </tr>\n",
              "    <tr>\n",
              "      <th>6</th>\n",
              "      <td>6</td>\n",
              "      <td>729677</td>\n",
              "      <td>İngiltere'nin Daily Star Gazetesinin son dakik...</td>\n",
              "      <td>spor</td>\n",
              "    </tr>\n",
              "    <tr>\n",
              "      <th>7</th>\n",
              "      <td>7</td>\n",
              "      <td>37307</td>\n",
              "      <td>Irak’ın Nineva eyaletinde bir Irak Şam İslam D...</td>\n",
              "      <td>dunya</td>\n",
              "    </tr>\n",
              "    <tr>\n",
              "      <th>8</th>\n",
              "      <td>8</td>\n",
              "      <td>278921</td>\n",
              "      <td>Meteoroloji'den son dakika hava durumu tahmini...</td>\n",
              "      <td>turkiye</td>\n",
              "    </tr>\n",
              "    <tr>\n",
              "      <th>9</th>\n",
              "      <td>9</td>\n",
              "      <td>554302</td>\n",
              "      <td>Avrupa Futbol Şampiyonası'nda (EURO 2016) gols...</td>\n",
              "      <td>spor</td>\n",
              "    </tr>\n",
              "  </tbody>\n",
              "</table>\n",
              "</div>"
            ],
            "text/plain": [
              "   Unnamed: 0  ...     label\n",
              "0           0  ...      spor\n",
              "1           1  ...  yazarlar\n",
              "2           2  ...     video\n",
              "3           3  ...     video\n",
              "4           4  ...      spor\n",
              "5           5  ...  yazarlar\n",
              "6           6  ...      spor\n",
              "7           7  ...     dunya\n",
              "8           8  ...   turkiye\n",
              "9           9  ...      spor\n",
              "\n",
              "[10 rows x 4 columns]"
            ]
          },
          "metadata": {
            "tags": []
          },
          "execution_count": 5
        }
      ]
    },
    {
      "cell_type": "markdown",
      "metadata": {
        "id": "dMzs8T6J0HU7"
      },
      "source": [
        "## Dividing data into keys and values"
      ]
    },
    {
      "cell_type": "code",
      "metadata": {
        "id": "ZIWzISPQRFRx"
      },
      "source": [
        "testx = test_df[\"text\"]\n",
        "testy = test_df[\"label\"]\n",
        "trainx = train_df[\"text\"]\n",
        "trainy = train_df[\"label\"]"
      ],
      "execution_count": null,
      "outputs": []
    },
    {
      "cell_type": "code",
      "metadata": {
        "colab": {
          "base_uri": "https://localhost:8080/"
        },
        "id": "M-_FlGXyS4yg",
        "outputId": "8bed76d1-cf9a-49df-91d5-58b2a603ee64"
      },
      "source": [
        "print(\"train size:\",trainx.size)\n",
        "print(\"test.size:\",testx.size)"
      ],
      "execution_count": null,
      "outputs": [
        {
          "output_type": "stream",
          "text": [
            "train size: 8000\n",
            "test.size: 2000\n"
          ],
          "name": "stdout"
        }
      ]
    },
    {
      "cell_type": "markdown",
      "metadata": {
        "id": "vVjclgK20Stw"
      },
      "source": [
        "# Naïve Bayes"
      ]
    },
    {
      "cell_type": "code",
      "metadata": {
        "id": "80pLawCDTeb7"
      },
      "source": [
        "from sklearn.pipeline import Pipeline\n",
        "model_pipeline=Pipeline([('tfidf_vectorizer',TfidfVectorizer(lowercase=True, stop_words=stop_word_list,)),(\"mnb\",MultinomialNB())]) # extracted stopwords and lowercased"
      ],
      "execution_count": null,
      "outputs": []
    },
    {
      "cell_type": "code",
      "metadata": {
        "colab": {
          "base_uri": "https://localhost:8080/"
        },
        "id": "u1LBQILVfOpV",
        "outputId": "34209fb5-c109-4d20-d1ad-fdfb8e648373"
      },
      "source": [
        "import numpy as np\n",
        "from sklearn.model_selection import GridSearchCV\n",
        "\n",
        "\n",
        "grid_params = {\n",
        "  'mnb__alpha': np.linspace(0.5, 1.5, 3),\n",
        "  'mnb__fit_prior': [True, False],\n",
        "  'tfidf_vectorizer__use_idf':[True,False], # include idf or not\n",
        "  'tfidf_vectorizer__norm': [None, 'l1', 'l2'], # normalization\n",
        "  'tfidf_vectorizer__binary': [True, False] \n",
        "}\n",
        "clf = GridSearchCV(model_pipeline, grid_params,verbose=10,n_jobs=-1)\n",
        "clf.fit(trainx, trainy)\n",
        "print(\"Best Score: \", clf.best_score_)\n",
        "print(\"Best Params: \", clf.best_params_)"
      ],
      "execution_count": null,
      "outputs": [
        {
          "output_type": "stream",
          "text": [
            "Fitting 5 folds for each of 72 candidates, totalling 360 fits\n"
          ],
          "name": "stdout"
        },
        {
          "output_type": "stream",
          "text": [
            "[Parallel(n_jobs=-1)]: Using backend LokyBackend with 2 concurrent workers.\n",
            "[Parallel(n_jobs=-1)]: Done   1 tasks      | elapsed:    4.8s\n",
            "[Parallel(n_jobs=-1)]: Done   4 tasks      | elapsed:    8.5s\n",
            "[Parallel(n_jobs=-1)]: Done   9 tasks      | elapsed:   19.0s\n",
            "[Parallel(n_jobs=-1)]: Done  14 tasks      | elapsed:   26.4s\n",
            "[Parallel(n_jobs=-1)]: Done  21 tasks      | elapsed:   40.4s\n",
            "[Parallel(n_jobs=-1)]: Done  28 tasks      | elapsed:   51.2s\n",
            "[Parallel(n_jobs=-1)]: Done  37 tasks      | elapsed:  1.1min\n",
            "[Parallel(n_jobs=-1)]: Done  46 tasks      | elapsed:  1.4min\n",
            "[Parallel(n_jobs=-1)]: Done  57 tasks      | elapsed:  1.7min\n",
            "[Parallel(n_jobs=-1)]: Done  68 tasks      | elapsed:  2.0min\n",
            "[Parallel(n_jobs=-1)]: Done  81 tasks      | elapsed:  2.4min\n",
            "[Parallel(n_jobs=-1)]: Done  94 tasks      | elapsed:  2.8min\n",
            "[Parallel(n_jobs=-1)]: Done 109 tasks      | elapsed:  3.3min\n",
            "[Parallel(n_jobs=-1)]: Done 124 tasks      | elapsed:  3.7min\n",
            "[Parallel(n_jobs=-1)]: Done 141 tasks      | elapsed:  4.2min\n",
            "[Parallel(n_jobs=-1)]: Done 158 tasks      | elapsed:  4.7min\n",
            "[Parallel(n_jobs=-1)]: Done 177 tasks      | elapsed:  5.3min\n",
            "[Parallel(n_jobs=-1)]: Done 196 tasks      | elapsed:  5.8min\n",
            "[Parallel(n_jobs=-1)]: Done 217 tasks      | elapsed:  6.5min\n",
            "[Parallel(n_jobs=-1)]: Done 238 tasks      | elapsed:  7.1min\n",
            "[Parallel(n_jobs=-1)]: Done 261 tasks      | elapsed:  7.7min\n",
            "[Parallel(n_jobs=-1)]: Done 284 tasks      | elapsed:  8.4min\n",
            "[Parallel(n_jobs=-1)]: Done 309 tasks      | elapsed:  9.1min\n",
            "[Parallel(n_jobs=-1)]: Done 334 tasks      | elapsed:  9.9min\n",
            "[Parallel(n_jobs=-1)]: Done 360 out of 360 | elapsed: 10.6min finished\n"
          ],
          "name": "stderr"
        },
        {
          "output_type": "stream",
          "text": [
            "Best Score:  0.789125\n",
            "Best Params:  {'mnb__alpha': 1.5, 'mnb__fit_prior': True, 'tfidf_vectorizer__binary': True, 'tfidf_vectorizer__norm': None, 'tfidf_vectorizer__use_idf': True}\n"
          ],
          "name": "stdout"
        }
      ]
    },
    {
      "cell_type": "code",
      "metadata": {
        "colab": {
          "base_uri": "https://localhost:8080/"
        },
        "id": "-aHANaYJ5GzG",
        "outputId": "0a05148a-94d6-44c4-fd2e-0880ee48f909"
      },
      "source": [
        "from sklearn.metrics import classification_report\n",
        "y_pred = clf.predict(testx)\n",
        "print(classification_report(testy, y_pred))"
      ],
      "execution_count": null,
      "outputs": [
        {
          "output_type": "stream",
          "text": [
            "              precision    recall  f1-score   support\n",
            "\n",
            "       dunya       0.80      0.85      0.82       395\n",
            "        spor       0.90      0.93      0.92       384\n",
            "     turkiye       0.65      0.67      0.66       421\n",
            "       video       0.74      0.51      0.60       408\n",
            "    yazarlar       0.80      0.96      0.87       392\n",
            "\n",
            "    accuracy                           0.78      2000\n",
            "   macro avg       0.78      0.78      0.78      2000\n",
            "weighted avg       0.78      0.78      0.77      2000\n",
            "\n"
          ],
          "name": "stdout"
        }
      ]
    },
    {
      "cell_type": "code",
      "metadata": {
        "colab": {
          "base_uri": "https://localhost:8080/",
          "height": 312
        },
        "id": "CvzU93JXeudr",
        "outputId": "1dc3aff9-b105-4f62-dfd8-f08cf3b86501"
      },
      "source": [
        "# from sklearn.metrics import confusion_matrix\n",
        "# print(confusion_matrix(testy, y_pred))\n",
        "\n",
        "\n",
        "import numpy as np\n",
        "import matplotlib.pyplot as plt\n",
        "from sklearn.metrics import plot_confusion_matrix\n",
        "\n",
        "# Run classifier, using a model that is too regularized (C too low) to see\n",
        "# the impact on the results\n",
        "\n",
        "# np.set_printoptions(precision=5)\n",
        "\n",
        "class_names = ['spor','yazarlar','video','dunya','turkiye']\n",
        "\n",
        "# Plot non-normalized confusion matrix\n",
        "titles_options = \"Naive Bayes Confusion matrix\"\n",
        "disp = plot_confusion_matrix(clf, testx, testy,\n",
        "                              # display_labels=class_names,\n",
        "                              cmap=plt.cm.Blues,normalize=\"true\")\n",
        "disp.ax_.set_title(titles_options)\n",
        "\n",
        "\n",
        "plt.show()\n",
        "plt.clf()"
      ],
      "execution_count": null,
      "outputs": [
        {
          "output_type": "display_data",
          "data": {
            "image/png": "[encoded data removed]",
            "text/plain": [
              "<Figure size 432x288 with 2 Axes>"
            ]
          },
          "metadata": {
            "tags": [],
            "needs_background": "light"
          }
        },
        {
          "output_type": "display_data",
          "data": {
            "text/plain": [
              "<Figure size 432x288 with 0 Axes>"
            ]
          },
          "metadata": {
            "tags": []
          }
        }
      ]
    },
    {
      "cell_type": "markdown",
      "metadata": {
        "id": "2rhlk6Y900_d"
      },
      "source": [
        "# Logistic Regression"
      ]
    },
    {
      "cell_type": "code",
      "metadata": {
        "colab": {
          "base_uri": "https://localhost:8080/"
        },
        "id": "OBzieNeoArcq",
        "outputId": "bb286e39-11b5-40f4-b58f-65501d15a7e3"
      },
      "source": [
        "import numpy as np\n",
        "from sklearn.linear_model import LogisticRegression\n",
        "\n",
        "lr_pipeline = Pipeline([\n",
        "    ('tfidf_vectorizer', TfidfVectorizer(lowercase=True, stop_words=stop_word_list)), # extracted stopwords and lowercased\n",
        "    ('lr', LogisticRegression(max_iter=1000))\n",
        "])\n",
        "\n",
        "\n",
        "grid_params = {\n",
        "  'lr__C': np.logspace(-3,3,3),\n",
        "  'tfidf_vectorizer__use_idf':[True,False],\n",
        "  'tfidf_vectorizer__binary': [True, False]\n",
        "}\n",
        "\n",
        "clf = GridSearchCV(lr_pipeline, grid_params,verbose=5,n_jobs=-1)\n",
        "clf.fit(trainx, trainy)\n",
        "\n",
        "print(\"Best Score: \", clf.best_score_)\n",
        "print(\"Best Params: \", clf.best_params_)"
      ],
      "execution_count": null,
      "outputs": [
        {
          "output_type": "stream",
          "text": [
            "Fitting 5 folds for each of 12 candidates, totalling 60 fits\n"
          ],
          "name": "stdout"
        },
        {
          "output_type": "stream",
          "text": [
            "[Parallel(n_jobs=-1)]: Using backend LokyBackend with 2 concurrent workers.\n",
            "[Parallel(n_jobs=-1)]: Done  14 tasks      | elapsed:   33.3s\n",
            "[Parallel(n_jobs=-1)]: Done  60 out of  60 | elapsed: 16.0min finished\n"
          ],
          "name": "stderr"
        },
        {
          "output_type": "stream",
          "text": [
            "Best Score:  0.8564999999999999\n",
            "Best Params:  {'lr__C': 1000.0, 'tfidf_vectorizer__binary': True, 'tfidf_vectorizer__use_idf': True}\n"
          ],
          "name": "stdout"
        }
      ]
    },
    {
      "cell_type": "code",
      "metadata": {
        "colab": {
          "base_uri": "https://localhost:8080/"
        },
        "id": "8zJ7mx3VjDqJ",
        "outputId": "9ecdf50b-754e-4011-a39a-5476b5b89afc"
      },
      "source": [
        "from sklearn.metrics import classification_report\n",
        "y_pred = clf.predict(testx)\n",
        "print(classification_report(testy, y_pred))"
      ],
      "execution_count": null,
      "outputs": [
        {
          "output_type": "stream",
          "text": [
            "              precision    recall  f1-score   support\n",
            "\n",
            "       dunya       0.82      0.88      0.85       395\n",
            "        spor       0.93      0.94      0.94       384\n",
            "     turkiye       0.82      0.73      0.77       421\n",
            "       video       0.81      0.80      0.81       408\n",
            "    yazarlar       0.91      0.96      0.93       392\n",
            "\n",
            "    accuracy                           0.86      2000\n",
            "   macro avg       0.86      0.86      0.86      2000\n",
            "weighted avg       0.86      0.86      0.86      2000\n",
            "\n"
          ],
          "name": "stdout"
        }
      ]
    },
    {
      "cell_type": "code",
      "metadata": {
        "colab": {
          "base_uri": "https://localhost:8080/",
          "height": 312
        },
        "id": "T7MT78kbjFYM",
        "outputId": "10a92020-3176-449a-d6c1-091296b0c72c"
      },
      "source": [
        "class_names = ['spor','yazarlar','video','dunya','turkiye']\n",
        "\n",
        "# Plot non-normalized confusion matrix\n",
        "titles_options = \"Logistic Regression Confusion matrix\"\n",
        "disp = plot_confusion_matrix(clf, testx, testy,\n",
        "                              # display_labels=class_names,\n",
        "                              cmap=plt.cm.Blues,normalize=\"true\")\n",
        "disp.ax_.set_title(titles_options)\n",
        "\n",
        "\n",
        "plt.show()\n",
        "plt.clf()"
      ],
      "execution_count": null,
      "outputs": [
        {
          "output_type": "display_data",
          "data": {
            "image/png": "[encoded data removed]",
            "text/plain": [
              "<Figure size 432x288 with 2 Axes>"
            ]
          },
          "metadata": {
            "tags": [],
            "needs_background": "light"
          }
        },
        {
          "output_type": "display_data",
          "data": {
            "text/plain": [
              "<Figure size 432x288 with 0 Axes>"
            ]
          },
          "metadata": {
            "tags": []
          }
        }
      ]
    }
  ]
}